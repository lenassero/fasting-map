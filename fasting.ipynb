{
 "cells": [
  {
   "cell_type": "code",
   "execution_count": 1,
   "metadata": {
    "collapsed": false
   },
   "outputs": [],
   "source": [
    "import pandas as pd\n",
    "import requests\n",
    "import pickle\n",
    "import re\n",
    "import os\n",
    "\n",
    "from bs4 import BeautifulSoup\n",
    "from tqdm import * "
   ]
  },
  {
   "cell_type": "code",
   "execution_count": 2,
   "metadata": {
    "collapsed": true
   },
   "outputs": [],
   "source": [
    "# Directory to save the data in\n",
    "path_data = r\"C:\\Users\\Nasser Benab\\Documents\\git\\data\""
   ]
  },
  {
   "cell_type": "markdown",
   "metadata": {},
   "source": [
    "# 1. Sunrise and sunset "
   ]
  },
  {
   "cell_type": "markdown",
   "metadata": {},
   "source": [
    "In this section, we extract the sunrise (\"fajr\") and sunset (\"maghrib\") times for the countries available in this [website](https://www.islamicfinder.org/world/). "
   ]
  },
  {
   "cell_type": "code",
   "execution_count": 3,
   "metadata": {
    "collapsed": false
   },
   "outputs": [],
   "source": [
    "page = requests.get(\"https://www.islamicfinder.org/world/\")"
   ]
  },
  {
   "cell_type": "code",
   "execution_count": 4,
   "metadata": {
    "collapsed": true
   },
   "outputs": [],
   "source": [
    "# Create an instance of the BeautifulSoup class to parse our document\n",
    "soup = BeautifulSoup(page.content, \"html.parser\")"
   ]
  },
  {
   "cell_type": "code",
   "execution_count": 6,
   "metadata": {
    "collapsed": false
   },
   "outputs": [
    {
     "data": {
      "text/plain": [
       "249"
      ]
     },
     "execution_count": 6,
     "metadata": {},
     "output_type": "execute_result"
    }
   ],
   "source": [
    "# The countries are links in the page (Ex: <a href=\"/world/south-africa/\" title=\"South Africa\">South Africa</a>)\n",
    "a_tags = soup.find_all(\"a\", href = re.compile(\"/world/\"))\n",
    "\n",
    "countries_islamicfinder = [instance.get_text() for instance in a_tags \n",
    "                           if \"title\" in instance.attrs.keys()\n",
    "                           and instance[\"title\"] == instance.get_text() \n",
    "                           and instance[\"title\"] != \"World\"]\n",
    "\n",
    "# Countries as in the links \n",
    "countries_links_islamicfinder = [instance[\"href\"].split(\"/\")[2] for instance in a_tags \n",
    "                                       if \"title\" in instance.attrs.keys()\n",
    "                                       and instance[\"title\"] == instance.get_text() \n",
    "                                       and instance[\"title\"] != \"World\"]\n",
    "\n",
    "# Number of countries in islamicfinder\n",
    "len(countries_islamicfinder)"
   ]
  },
  {
   "cell_type": "code",
   "execution_count": 7,
   "metadata": {
    "collapsed": false
   },
   "outputs": [
    {
     "name": "stdout",
     "output_type": "stream",
     "text": [
      "['Algeria', 'Angola', 'Benin', 'Botswana', 'Burkina Faso']\n",
      "['algeria', 'angola', 'benin', 'botswana', 'burkina-faso']\n"
     ]
    }
   ],
   "source": [
    "# Subset of the countries\n",
    "print(countries_islamicfinder[:5])\n",
    "print(countries_links_islamicfinder[:5])"
   ]
  },
  {
   "cell_type": "code",
   "execution_count": 8,
   "metadata": {
    "collapsed": false
   },
   "outputs": [],
   "source": [
    "# Dictionaries to map each country to its link name and vice versa\n",
    "country_to_countrylink = dict((zip(countries_islamicfinder, countries_links_islamicfinder)))\n",
    "countrylink_to_country = dict((zip(countries_links_islamicfinder, countries_islamicfinder)))"
   ]
  },
  {
   "cell_type": "markdown",
   "metadata": {},
   "source": [
    "Now, let's scrap the \"fajr\" and \"maghrib\" times for each country. The information is updated every day.\n",
    "\n",
    "Each link (Ex: https://www.islamicfinder.org/world/south-africa/) shows the prayer times for the top cities in the country.\n",
    "We will extract all of them and try to keep only the capitals."
   ]
  },
  {
   "cell_type": "code",
   "execution_count": 9,
   "metadata": {
    "collapsed": false
   },
   "outputs": [
    {
     "name": "stderr",
     "output_type": "stream",
     "text": [
      "100%|██████████| 249/249 [07:56<00:00,  1.84s/it]\n"
     ]
    }
   ],
   "source": [
    "# Dictionary to store the \"fajr\" and \"maghrib\" times for each country \n",
    "d = {}\n",
    "for countrylink in tqdm(countries_links_islamicfinder):\n",
    "    d[countrylink] = {}\n",
    "    # Country specific link\n",
    "    page_country = requests.get(\"https://www.islamicfinder.org/world/{}/\".format(countrylink))\n",
    "    soup_country = BeautifulSoup(page_country.content, \"html.parser\")\n",
    "    # Each city (link) data is a row of a table \n",
    "    city_tags = [city_a_tag.parent.parent for city_a_tag in soup_country.select(\"tr td a\")]\n",
    "    for city_tag in city_tags:        \n",
    "        city_td_tags = city_tag.find_all(\"td\")\n",
    "        # The city name is in the first cell of the row\n",
    "        city_name = city_td_tags[0].get_text()\n",
    "        # The \"fajr\" time is in the second cell of the row\n",
    "        fajr_time = city_td_tags[1].get_text()\n",
    "        # The \"maghrib\" time is in the sixth cell of the row\n",
    "        maghrib_time = city_td_tags[5].get_text()\n",
    "        # Add the times to the dictionary\n",
    "        d[countrylink][city_name] = (fajr_time, maghrib_time)"
   ]
  },
  {
   "cell_type": "code",
   "execution_count": 11,
   "metadata": {
    "collapsed": false
   },
   "outputs": [],
   "source": [
    "# Save the data to a pickle file\n",
    "pickle.dump(d, open(os.path.join(path_data, \"sunrise_sunset.p\"), \"wb\"))"
   ]
  },
  {
   "cell_type": "code",
   "execution_count": 12,
   "metadata": {
    "collapsed": false
   },
   "outputs": [],
   "source": [
    "# Read data saved on the 31th of May 2017 (~5th day of Ramadan)\n",
    "d = pickle.load(open(os.path.join(path_data, \"sunrise_sunset_31_05_2017.p\"), \"rb\"))"
   ]
  },
  {
   "cell_type": "markdown",
   "metadata": {},
   "source": [
    "# 2. Countries and their capitals"
   ]
  },
  {
   "cell_type": "markdown",
   "metadata": {},
   "source": [
    "I have decided to keep one city per country. It had to be the capital. \n",
    "\n",
    "Thus, I have scrapped a wikipedia page showing a list of countries and their capitals:"
   ]
  },
  {
   "cell_type": "code",
   "execution_count": 13,
   "metadata": {
    "collapsed": true
   },
   "outputs": [],
   "source": [
    "page_capital = requests.get(\"https://en.wikipedia.org/wiki/List_of_national_capitals_in_alphabetical_order\")"
   ]
  },
  {
   "cell_type": "code",
   "execution_count": 14,
   "metadata": {
    "collapsed": true
   },
   "outputs": [],
   "source": [
    "soup_capital = BeautifulSoup(page_capital.content, \"html.parser\")"
   ]
  },
  {
   "cell_type": "code",
   "execution_count": 15,
   "metadata": {
    "collapsed": false
   },
   "outputs": [],
   "source": [
    "# Table to scrap\n",
    "table_tag = soup_capital.find(class_ = \"wikitable sortable\")"
   ]
  },
  {
   "cell_type": "code",
   "execution_count": 16,
   "metadata": {
    "collapsed": true
   },
   "outputs": [],
   "source": [
    "# Rows of the table except the first (the header)\n",
    "table_tr_tags = table_tag.find_all(\"tr\")[1:]"
   ]
  },
  {
   "cell_type": "code",
   "execution_count": 17,
   "metadata": {
    "collapsed": false
   },
   "outputs": [],
   "source": [
    "# Dictionary to store the capital for each country in the wikipedia's page\n",
    "country_capital_dic = {} \n",
    "for i in range(len(table_tr_tags)):\n",
    "    # The country is in bold in a cell\n",
    "    country = table_tr_tags[i].select(\"td b a\")[0].get_text()\n",
    "    # By using \">\" (<a> tags directly beneath <td> tags), we select the first cell \n",
    "    # of the row (with the capitals) and discard the second cell (with the country)\n",
    "    capital = table_tr_tags[i].select(\"td > a\")[0].get_text()    \n",
    "    country_capital_dic[country] = capital"
   ]
  },
  {
   "cell_type": "markdown",
   "metadata": {},
   "source": [
    "> It can happen that a country has more than one capital. We have selected the first one in the cell."
   ]
  },
  {
   "cell_type": "code",
   "execution_count": 18,
   "metadata": {
    "collapsed": false
   },
   "outputs": [
    {
     "data": {
      "text/plain": [
       "250"
      ]
     },
     "execution_count": 18,
     "metadata": {},
     "output_type": "execute_result"
    }
   ],
   "source": [
    "# Countries from Wikipedia\n",
    "countries_wikipedia = list(country_capital_dic.keys())\n",
    "len(countries_wikipedia)"
   ]
  },
  {
   "cell_type": "markdown",
   "metadata": {},
   "source": [
    "# 3. Putting it all together "
   ]
  },
  {
   "cell_type": "markdown",
   "metadata": {},
   "source": [
    "For now, we have a number of countries from [*islamicfinder*](https://www.islamicfinder.org/world/) and others from [*wikipedia*](https://en.wikipedia.org/wiki/List_of_national_capitals_in_alphabetical_order). Do they match ?\n",
    "\n",
    "The same goes for the capitals. But first, is there necessarly the capital in the [\"Top cities\" of *islamicfinder*](https://www.islamicfinder.org/world/south-africa/) ?"
   ]
  },
  {
   "cell_type": "markdown",
   "metadata": {},
   "source": [
    "## 3.1. Countries "
   ]
  },
  {
   "cell_type": "code",
   "execution_count": 19,
   "metadata": {
    "collapsed": false,
    "scrolled": true
   },
   "outputs": [
    {
     "data": {
      "text/plain": [
       "['Congo',\n",
       " 'Ivory Coast',\n",
       " 'Antarctica',\n",
       " 'French Southern Territories',\n",
       " 'Asia',\n",
       " 'British Indian Ocean Territory',\n",
       " 'Cocos [Keeling] Islands',\n",
       " 'Hashemite Kingdom of Jordan',\n",
       " 'Macao',\n",
       " 'Myanmar [Burma]',\n",
       " 'Palestine',\n",
       " 'Republic of Korea',\n",
       " 'Åland',\n",
       " 'Europe',\n",
       " 'Macedonia',\n",
       " 'Republic of Lithuania',\n",
       " 'Republic of Moldova',\n",
       " 'Slovak Republic',\n",
       " 'Svalbard and Jan Mayen',\n",
       " 'Bonaire, Sint Eustatius, and Saba',\n",
       " 'Saint-Barthélemy',\n",
       " 'U.S. Virgin Islands',\n",
       " 'East Timor',\n",
       " 'Pitcairn Islands',\n",
       " 'Tokelau',\n",
       " 'U.S. Minor Outlying Islands']"
      ]
     },
     "execution_count": 19,
     "metadata": {},
     "output_type": "execute_result"
    }
   ],
   "source": [
    "# Countries in islamicfinder but not in wikipedia\n",
    "l = [country for country in countries_islamicfinder if country not in countries_wikipedia]\n",
    "l"
   ]
  },
  {
   "cell_type": "markdown",
   "metadata": {},
   "source": [
    "I have manually checked the above list to see if the country was just written differently in wikipedia. If not, the country is discarded:"
   ]
  },
  {
   "cell_type": "code",
   "execution_count": 20,
   "metadata": {
    "collapsed": true
   },
   "outputs": [],
   "source": [
    "# Countries to be discarded\n",
    "countries_discarded = [\"Antarctica\", \"French Southern Territories\", \"Asia\", \"British Indian Ocean Territory\", \"Macao\",\n",
    "                      \"Åland\", \"Europe\", \"Svalbard and Jan Mayen\", \"Bonaire, Sint Eustatius, and Saba\", \"Tokelau\",\n",
    "                      \"U.S. Minor Outlying Islands\"]"
   ]
  },
  {
   "cell_type": "code",
   "execution_count": 21,
   "metadata": {
    "collapsed": false
   },
   "outputs": [],
   "source": [
    "# Delete information on these countries\n",
    "for country in countries_discarded:\n",
    "    if country in country_to_countrylink.keys():\n",
    "        del d[country_to_countrylink[country]]"
   ]
  },
  {
   "cell_type": "markdown",
   "metadata": {},
   "source": [
    "Here, the dictionary maps the country as written in islamicfinder to its equivalent in wikipedia:"
   ]
  },
  {
   "cell_type": "code",
   "execution_count": 22,
   "metadata": {
    "collapsed": true
   },
   "outputs": [],
   "source": [
    "islamicfinder_to_wikipedia_dic = {\"Congo\": \"Democratic Republic of the Congo\", \"Ivory Coast\": \"Côte d'Ivoire\", \n",
    "                   \"Cocos [Keeling] Islands\": \"Cocos (Keeling) Islands\", \"Hashemite Kingdom of Jordan\": \"Jordan\",\n",
    "                   \"Myanmar [Burma]\": \"Myanmar\", \"Palestine\": \"State of Palestine\", \"Republic of Korea\": \"South Korea\",\n",
    "                   \"Macedonia\": \"Republic of Macedonia\", \"Republic of Lithuania\": \"Lithuania\", \"Republic of Moldova\": \"Moldova\",\n",
    "                   \"Slovak Republic\": \"Slovakia\", \"Saint-Barthélemy\": \"Saint Barthélemy\", \n",
    "                   \"U.S. Virgin Islands\": \"United States Virgin Islands\", \"East Timor\": \"East Timor (Timor-Leste)\", \n",
    "                   \"Pitcairn Islands\": \"Pitcairn\"}\n",
    "# Reverse dictionary\n",
    "wikipedia_to_islamicfinder_dic = {value: key for (key, value) in islamicfinder_to_wikipedia_dic.items()}"
   ]
  },
  {
   "cell_type": "markdown",
   "metadata": {},
   "source": [
    "The country-capital dictionary built from wikipedia will now be consistent with the information on islamicfinder:"
   ]
  },
  {
   "cell_type": "code",
   "execution_count": 23,
   "metadata": {
    "collapsed": false
   },
   "outputs": [],
   "source": [
    "# Replace countries in the country-capital dictionary by their names in islamicfinder\n",
    "for k, v in wikipedia_to_islamicfinder_dic.items():\n",
    "    country_capital_dic[v] = country_capital_dic.pop(k)"
   ]
  },
  {
   "cell_type": "markdown",
   "metadata": {},
   "source": [
    "## 3.2. Capitals "
   ]
  },
  {
   "cell_type": "markdown",
   "metadata": {},
   "source": [
    "Let's check if every capital in wikipedia is present in the data scrapped from islamicfinder. If not, either it has been written differently in islamicfinder or it just does not exist. Thus, we will replace the capital in the country-capital dictionary from wikipedia, either by its islamicfinder spelling, or by another city:"
   ]
  },
  {
   "cell_type": "code",
   "execution_count": 24,
   "metadata": {
    "collapsed": false
   },
   "outputs": [
    {
     "name": "stdout",
     "output_type": "stream",
     "text": [
      "1. Country:  Republic of Korea\n",
      "Capital in wikipedia:  Seoul\n",
      "Available cities in islamicfinder:  {'Suwon', 'Pusan', 'Daegu', 'Masan'}\n",
      "\n",
      "\n",
      "2. Country:  Cocos [Keeling] Islands\n",
      "Capital in wikipedia:  West Island\n",
      "Available cities in islamicfinder:  {'Home Island'}\n",
      "\n",
      "\n",
      "3. Country:  Colombia\n",
      "Capital in wikipedia:  Bogotá\n",
      "Available cities in islamicfinder:  {'Medellín', 'Ibague', 'Cúcuta', 'Cali', 'Pereira', 'Barranquilla', 'Medellin', 'Cucuta', 'Bogota D.E.'}\n",
      "\n",
      "\n",
      "4. Country:  Mongolia\n",
      "Capital in wikipedia:  Ulaanbaatar\n",
      "Available cities in islamicfinder:  {'Darhan', 'Ulan Bator'}\n",
      "\n",
      "\n",
      "5. Country:  Federated States of Micronesia\n",
      "Capital in wikipedia:  Palikir\n",
      "Available cities in islamicfinder:  set()\n",
      "\n",
      "\n",
      "6. Country:  Chad\n",
      "Capital in wikipedia:  N'Djamena\n",
      "Available cities in islamicfinder:  {'Moundou', 'Abéché', 'Lai', 'Abeche', 'Koumra', 'Doba', 'Kelo'}\n",
      "\n",
      "\n",
      "7. Country:  El Salvador\n",
      "Capital in wikipedia:  San Salvador\n",
      "Available cities in islamicfinder:  {'San Miguel', 'Santa Ana'}\n",
      "\n",
      "\n",
      "8. Country:  Singapore\n",
      "Capital in wikipedia:  Singapore\n",
      "Available cities in islamicfinder:  {'Jurong East New Town', 'Ang Mo Kio New Town', 'Novena', 'Choa Chu Kang New Town', 'Jurong', 'Clementi New Town', 'Nee Soon', 'Bukit Batok New Town', 'Sentosa', 'Jurong West New Town'}\n",
      "\n",
      "\n",
      "9. Country:  Curaçao\n",
      "Capital in wikipedia:  Willemstad\n",
      "Available cities in islamicfinder:  set()\n",
      "\n",
      "\n",
      "10. Country:  Iceland\n",
      "Capital in wikipedia:  Reykjavík\n",
      "Available cities in islamicfinder:  {'Akureyri', 'Vatnajokull', 'Reykjavik'}\n",
      "\n",
      "\n",
      "11. Country:  Honduras\n",
      "Capital in wikipedia:  Tegucigalpa\n",
      "Available cities in islamicfinder:  {'Danli', 'La Ceiba', 'Tela'}\n",
      "\n",
      "\n",
      "12. Country:  Puerto Rico\n",
      "Capital in wikipedia:  San Juan\n",
      "Available cities in islamicfinder:  {'Bayam├â┬│n', 'Mayag├â┬╝ez', 'Trujillo', 'Cayey', 'Cata├â┬▒o', 'Guayama', 'Ponce', 'Fajardo', 'Arecibo', 'Aguadilla'}\n",
      "\n",
      "\n",
      "13. Country:  Sint Maarten\n",
      "Capital in wikipedia:  Philipsburg\n",
      "Available cities in islamicfinder:  set()\n",
      "\n",
      "\n",
      "14. Country:  Ivory Coast\n",
      "Capital in wikipedia:  Yamoussoukro\n",
      "Available cities in islamicfinder:  {'San-Pedro', 'Yopougon', 'Daloa', 'Bingerville', 'Marcory', 'Abidjan'}\n",
      "\n",
      "\n",
      "15. Country:  Sri Lanka\n",
      "Capital in wikipedia:  Sri Jayawardenepura Kotte\n",
      "Available cities in islamicfinder:  {'Galle', 'Jaffna', 'Colombo', 'Moratuwa', 'Kandy'}\n",
      "\n",
      "\n",
      "16. Country:  Saint Pierre and Miquelon\n",
      "Capital in wikipedia:  St. Pierre\n",
      "Available cities in islamicfinder:  {'Miquelon', 'Saint-Pierre'}\n",
      "\n",
      "\n",
      "17. Country:  Mexico\n",
      "Capital in wikipedia:  Mexico City\n",
      "Available cities in islamicfinder:  {'Leon', 'Monterrey', 'Mexicali', 'Mexico', 'Ciudad Juárez', 'León', 'Guadalajara', 'Puebla', 'Chihuahua', 'Acapulco'}\n",
      "\n",
      "\n",
      "18. Country:  Guernsey\n",
      "Capital in wikipedia:  St. Peter Port\n",
      "Available cities in islamicfinder:  {'Saint Andrew', 'Saint Peter Port', 'Torteval', 'Castel', 'St Peter Port', 'Saint Sampson', 'Saint Martin', 'St. Saviour'}\n",
      "\n",
      "\n",
      "19. Country:  Madagascar\n",
      "Capital in wikipedia:  Antananarivo\n",
      "Available cities in islamicfinder:  {'Majunga', 'Toliary', 'Toamasina'}\n",
      "\n",
      "\n",
      "20. Country:  Paraguay\n",
      "Capital in wikipedia:  Asunción\n",
      "Available cities in islamicfinder:  {'Asuncion', 'Villarrica'}\n",
      "\n",
      "\n",
      "21. Country:  Haiti\n",
      "Capital in wikipedia:  Port-au-Prince\n",
      "Available cities in islamicfinder:  {'Les Cayes', 'Cap-Haïtien', 'Gonaives'}\n",
      "\n",
      "\n",
      "22. Country:  Marshall Islands\n",
      "Capital in wikipedia:  Majuro\n",
      "Available cities in islamicfinder:  {'Delap'}\n",
      "\n",
      "\n",
      "23. Country:  Benin\n",
      "Capital in wikipedia:  Porto-Novo\n",
      "Available cities in islamicfinder:  {'Cotonou', 'Abomey'}\n",
      "\n",
      "\n",
      "24. Country:  New Caledonia\n",
      "Capital in wikipedia:  Nouméa\n",
      "Available cities in islamicfinder:  {'Noumea'}\n",
      "\n",
      "\n",
      "25. Country:  Serbia\n",
      "Capital in wikipedia:  Belgrade\n",
      "Available cities in islamicfinder:  {'Gornji Milanovac', 'Arilje', 'Čačak', 'Cuprija', 'Bosilegrad', 'Aleksinac', 'Despotovac', 'Bor', 'Cicevac'}\n",
      "\n",
      "\n",
      "26. Country:  Hungary\n",
      "Capital in wikipedia:  Budapest\n",
      "Available cities in islamicfinder:  {'Kecskemét', 'Szeged', 'Kecskemet'}\n",
      "\n",
      "\n",
      "27. Country:  Hong Kong\n",
      "Capital in wikipedia:  Hong Kong\n",
      "Available cities in islamicfinder:  {'Kowloon'}\n",
      "\n",
      "\n",
      "28. Country:  Republic of Moldova\n",
      "Capital in wikipedia:  Chișinău\n",
      "Available cities in islamicfinder:  {'Cahul', 'Pascani', 'Comrat', 'Orhei', 'Bălţi', 'Peresecina', 'Rezina', 'Chişinău', 'Soroca', 'Edineţ'}\n",
      "\n",
      "\n",
      "29. Country:  Saint Helena\n",
      "Capital in wikipedia:  Jamestown\n",
      "Available cities in islamicfinder:  {'Georgetown'}\n",
      "\n",
      "\n",
      "30. Country:  Cape Verde\n",
      "Capital in wikipedia:  Praia\n",
      "Available cities in islamicfinder:  {'Mindelo'}\n",
      "\n",
      "\n",
      "31. Country:  Myanmar [Burma]\n",
      "Capital in wikipedia:  Naypyidaw\n",
      "Available cities in islamicfinder:  {'Bassein', 'Mandalay', 'Taunggyi', 'Rangoon', 'Yangon', 'Wagan', 'Moulmein', 'Akyab'}\n",
      "\n",
      "\n",
      "32. Country:  Nigeria\n",
      "Capital in wikipedia:  Abuja\n",
      "Available cities in islamicfinder:  {'Kano', 'Ilesha', 'Ilorin', 'Onitsha', 'Zaria', 'Ibadan', 'Lagos'}\n",
      "\n",
      "\n",
      "33. Country:  Montenegro\n",
      "Capital in wikipedia:  Podgorica\n",
      "Available cities in islamicfinder:  set()\n",
      "\n",
      "\n",
      "34. Country:  Republic of Lithuania\n",
      "Capital in wikipedia:  Vilnius\n",
      "Available cities in islamicfinder:  {'Klaipėda', 'Panevezys', 'Marijampolė', 'Alytus', 'Butrimonys', 'Kaunas', 'Ignalina', 'Druskininkai', 'Palanga', 'Kybartai'}\n",
      "\n",
      "\n",
      "35. Country:  Georgia\n",
      "Capital in wikipedia:  Tbilisi\n",
      "Available cities in islamicfinder:  {'Tblisi', 'Gori', 'Batumi', 'Akhmeta', 'Tsqaltubo', 'Sukhumi', 'Zugdidi', 'Sokhumi'}\n",
      "\n",
      "\n",
      "36. Country:  Tonga\n",
      "Capital in wikipedia:  Nukuʻalofa\n",
      "Available cities in islamicfinder:  {'Neiafu', 'Tongatapu', \"Nuku'alofa\"}\n",
      "\n",
      "\n",
      "37. Country:  South Georgia and the South Sandwich Islands\n",
      "Capital in wikipedia:  King Edward Point\n",
      "Available cities in islamicfinder:  {'South Georgia Island', 'Grytviken'}\n",
      "\n",
      "\n",
      "38. Country:  Yemen\n",
      "Capital in wikipedia:  Sana'a\n",
      "Available cities in islamicfinder:  {'Taiz', 'Sanaa', 'Mukalla', 'Aden', 'Ibb', 'Hodeida', 'Dhamar'}\n",
      "\n",
      "\n",
      "39. Country:  Saint-Barthélemy\n",
      "Capital in wikipedia:  Gustavia\n",
      "Available cities in islamicfinder:  set()\n",
      "\n",
      "\n",
      "40. Country:  Monaco\n",
      "Capital in wikipedia:  Monaco\n",
      "Available cities in islamicfinder:  {'Monaco-Ville'}\n",
      "\n",
      "\n",
      "41. Country:  Palau\n",
      "Capital in wikipedia:  Ngerulmud\n",
      "Available cities in islamicfinder:  {'Koror'}\n",
      "\n",
      "\n",
      "42. Country:  Costa Rica\n",
      "Capital in wikipedia:  San José\n",
      "Available cities in islamicfinder:  {'Limón', 'Cartago', 'Limon', 'Heredia'}\n",
      "\n",
      "\n",
      "43. Country:  Jersey\n",
      "Capital in wikipedia:  St. Helier\n",
      "Available cities in islamicfinder:  {'Saint Helier'}\n",
      "\n",
      "\n",
      "44. Country:  Nauru\n",
      "Capital in wikipedia:  Yaren\n",
      "Available cities in islamicfinder:  {'Anabar', 'Nauru'}\n",
      "\n",
      "\n",
      "45. Country:  Antigua and Barbuda\n",
      "Capital in wikipedia:  St. John's\n",
      "Available cities in islamicfinder:  {'Old Road', 'Potters Village', 'Codrington', 'Bendals', 'All Saints', 'Freetown', 'Cassada Gardens', 'Piggotts', 'Bolands', 'Falmouth'}\n",
      "\n",
      "\n",
      "46. Country:  United States\n",
      "Capital in wikipedia:  Washington, D.C.\n",
      "Available cities in islamicfinder:  {'Detroit', 'Honolulu', 'Denver', 'Los Angeles', 'Atlanta', 'Houston', 'Dallas', 'Anchorage', 'Miami', 'Chicago'}\n",
      "\n",
      "\n",
      "47. Country:  Grenada\n",
      "Capital in wikipedia:  St. George's\n",
      "Available cities in islamicfinder:  {'Grenville'}\n",
      "\n",
      "\n"
     ]
    }
   ],
   "source": [
    "# Countries that don't have information on their capitals in islamicfinder\n",
    "d_capital = d.copy()\n",
    "i = 1\n",
    "for countrylink in d.keys():\n",
    "    country = countrylink_to_country[countrylink]\n",
    "    # If the wikipedia capital is not in islamicfinder data\n",
    "    if country_capital_dic[country] not in d[countrylink].keys():\n",
    "        print(\"{}. Country: \".format(i), country)\n",
    "        print(\"Capital in wikipedia: \", country_capital_dic[country])\n",
    "        print(\"Available cities in islamicfinder: \", set(d[countrylink].keys()))\n",
    "        print(\"\\n\")\n",
    "        i = i + 1"
   ]
  },
  {
   "cell_type": "markdown",
   "metadata": {},
   "source": [
    "This is not the funniest part... We go over the above inconsistencies one by one: "
   ]
  },
  {
   "cell_type": "code",
   "execution_count": 25,
   "metadata": {
    "collapsed": true
   },
   "outputs": [],
   "source": [
    "# Case 1\n",
    "# Capitals with a different spelling in islamicfinder \n",
    "# {country: capital with the islamicfinder spelling}\n",
    "country_capital_islamicfinder_dic = {\"Georgia\": \"Tblisi\", \"Hong Kong\": \"Kowloon\", \"Colombia\": \"Bogota D.E.\", \n",
    "                                 \"Hungary\": \"Kecskemét\", \"Iceland\": \"Reykjavik\",\n",
    "                                 \"Republic of Moldova\": \"Chişinău\", \"New Caledonia\": \"Noumea\", \n",
    "                                 \"Saint Pierre and Miquelon\": \"Saint-Pierre\", \n",
    "                                 \"Marshall Islands\": \"Delap\", \"Mongolia\": \"Ulan Bator\", \"Yemen\": \"Sanaa\", \n",
    "                                 \"Monaco\": \"Monaco-Ville\", \"Mexico\": \"Mexico\",\n",
    "                                 \"Tonga\": \"Nuku'alofa\", \"Jersey\": \"Saint Helier\", \"Paraguay\": \"Asuncion\", \n",
    "                                 \"Guernsey\": \"Saint Peter Port\"} "
   ]
  },
  {
   "cell_type": "code",
   "execution_count": 26,
   "metadata": {
    "collapsed": true
   },
   "outputs": [],
   "source": [
    "# Case 2\n",
    "# Choose another city for islamicfinder countries with no data on their capitals\n",
    "country_city_islamicfinder_dic = {\"Hong Kong\": \"Kowloon\", \"Hungary\": \"Kecskemét\", \"Nigeria\": \"Zaria\", \"Benin\": \"Cotonou\", \n",
    "                              \"South Georgia and the South Sandwich Islands\": \"Grytviken\", \"Grenada\": \"Grenville\", \n",
    "                              \"Saint Helena\": \"Georgetown\", \"Costa Rica\": \"Limón\", \"Chad\": \"Doba\", \n",
    "                              \"Cocos [Keeling] Islands\": \"Home Island\", \"Madagascar\": \"Toamasina\",\n",
    "                              \"Antigua and Barbuda\": \"Piggotts\", \"Ivory Coast\": \"Abidjan\", \"Haiti\": \"Cap-Haïtien\", \n",
    "                              \"Republic of Lithuania\": \"Kaunas\", \"Myanmar [Burma]\": \"Taunggyi\", \"Republic of Korea\": \"Suwon\", \n",
    "                              \"El Salvador\": \"Santa Ana\", \"Singapore\": \"Sentosa\", \"Serbia\": \"Čačak\", \"Palau\": \"Koror\", \n",
    "                              \"Nauru\": \"Nauru\", \"Honduras\": \"Danli\", \"Sri Lanka\": \"Colombo\", \"Cape Verde\": \"Mindelo\",\n",
    "                              \"Puerto Rico\": \"Bayam├â┬│n\"}\n",
    " "
   ]
  },
  {
   "cell_type": "code",
   "execution_count": 27,
   "metadata": {
    "collapsed": false
   },
   "outputs": [],
   "source": [
    "country_newcapital_dic = {**country_capital_islamicfinder_dic, **country_city_islamicfinder_dic}"
   ]
  },
  {
   "cell_type": "code",
   "execution_count": 28,
   "metadata": {
    "collapsed": false
   },
   "outputs": [],
   "source": [
    "# Case 3\n",
    "# Countries with no information on islamicfinder\n",
    "countries_noinfo = [\"Curaçao\", \"Saint-Barthélemy\", \"Montenegro\", \"Federated States of Micronesia\", \"Sint Maarten\"]"
   ]
  },
  {
   "cell_type": "code",
   "execution_count": 29,
   "metadata": {
    "collapsed": false
   },
   "outputs": [],
   "source": [
    "# Dictionary with the final data\n",
    "d_capital = d.copy()\n",
    "\n",
    "for countrylink in d.keys():\n",
    "    country = countrylink_to_country[countrylink]\n",
    "    # If the wikipedia capital is not in islamicfinder data\n",
    "    if country_capital_dic[country] not in d[countrylink].keys():\n",
    "        # Delete countries with no information on islamicfinder\n",
    "        if country in countries_noinfo:\n",
    "            del d_capital[countrylink]\n",
    "        # Replace the wikipedia capital either by its islamicfinder spelling \n",
    "        # or by another city as choosen in country_city_islamicfinder_dic\n",
    "        elif country in country_newcapital_dic.keys():\n",
    "            country_capital_dic[country] = country_newcapital_dic[country]       \n",
    "            "
   ]
  },
  {
   "cell_type": "markdown",
   "metadata": {},
   "source": [
    "# 4. Fasting data "
   ]
  },
  {
   "cell_type": "markdown",
   "metadata": {},
   "source": [
    "Now, we can access the capital (or another city) for every country in islamicfinder\n",
    "\n",
    "Note that I have manually added the data for the US because Washington D.C was not among the \"Top cities\" in islamicfinder:"
   ]
  },
  {
   "cell_type": "code",
   "execution_count": 30,
   "metadata": {
    "collapsed": false
   },
   "outputs": [],
   "source": [
    "# Dictionary with \"fajr\" and \"maghrib\" prayer times for each country \n",
    "d_country_prayertimes = {**{countrylink_to_country[country_link]: \n",
    "                            d_capital[country_link][country_capital_dic[countrylink_to_country[country_link]]] \n",
    "                            for country_link in d_capital.keys() \n",
    "                            if country_link != \"united-states\"}, \n",
    "                         **{\"United States\": (\"04:13 AM\", \"08:28 PM\")}}"
   ]
  },
  {
   "cell_type": "code",
   "execution_count": 31,
   "metadata": {
    "collapsed": false
   },
   "outputs": [],
   "source": [
    "# Dataframe (country as index)\n",
    "data = pd.DataFrame.from_dict(d_country_prayertimes).transpose()\n",
    "data.columns = [\"fajr_time\", \"maghrib_time\"]"
   ]
  },
  {
   "cell_type": "code",
   "execution_count": 32,
   "metadata": {
    "collapsed": false
   },
   "outputs": [
    {
     "data": {
      "text/html": [
       "<div>\n",
       "<table border=\"1\" class=\"dataframe\">\n",
       "  <thead>\n",
       "    <tr style=\"text-align: right;\">\n",
       "      <th></th>\n",
       "      <th>fajr_time</th>\n",
       "      <th>maghrib_time</th>\n",
       "    </tr>\n",
       "  </thead>\n",
       "  <tbody>\n",
       "    <tr>\n",
       "      <th>Afghanistan</th>\n",
       "      <td>02:59 AM</td>\n",
       "      <td>07:01 PM</td>\n",
       "    </tr>\n",
       "    <tr>\n",
       "      <th>Albania</th>\n",
       "      <td>03:06 AM</td>\n",
       "      <td>08:07 PM</td>\n",
       "    </tr>\n",
       "    <tr>\n",
       "      <th>Algeria</th>\n",
       "      <td>03:42 AM</td>\n",
       "      <td>08:02 PM</td>\n",
       "    </tr>\n",
       "    <tr>\n",
       "      <th>American Samoa</th>\n",
       "      <td>05:26 AM</td>\n",
       "      <td>06:01 PM</td>\n",
       "    </tr>\n",
       "    <tr>\n",
       "      <th>Andorra</th>\n",
       "      <td>04:11 AM</td>\n",
       "      <td>09:25 PM</td>\n",
       "    </tr>\n",
       "  </tbody>\n",
       "</table>\n",
       "</div>"
      ],
      "text/plain": [
       "               fajr_time maghrib_time\n",
       "Afghanistan     02:59 AM     07:01 PM\n",
       "Albania         03:06 AM     08:07 PM\n",
       "Algeria         03:42 AM     08:02 PM\n",
       "American Samoa  05:26 AM     06:01 PM\n",
       "Andorra         04:11 AM     09:25 PM"
      ]
     },
     "execution_count": 32,
     "metadata": {},
     "output_type": "execute_result"
    }
   ],
   "source": [
    "data.head()"
   ]
  },
  {
   "cell_type": "code",
   "execution_count": 33,
   "metadata": {
    "collapsed": false
   },
   "outputs": [
    {
     "data": {
      "text/plain": [
       "233"
      ]
     },
     "execution_count": 33,
     "metadata": {},
     "output_type": "execute_result"
    }
   ],
   "source": [
    "# Number of countries in the final data\n",
    "data.shape[0]"
   ]
  },
  {
   "cell_type": "code",
   "execution_count": 34,
   "metadata": {
    "collapsed": false
   },
   "outputs": [],
   "source": [
    "# Hours of fasting\n",
    "data[\"fasting_time\"] = pd.to_datetime(data.maghrib_time) - pd.to_datetime(data.fajr_time)"
   ]
  },
  {
   "cell_type": "code",
   "execution_count": 35,
   "metadata": {
    "collapsed": false
   },
   "outputs": [
    {
     "data": {
      "text/html": [
       "<div>\n",
       "<table border=\"1\" class=\"dataframe\">\n",
       "  <thead>\n",
       "    <tr style=\"text-align: right;\">\n",
       "      <th></th>\n",
       "      <th>fajr_time</th>\n",
       "      <th>maghrib_time</th>\n",
       "      <th>fasting_time</th>\n",
       "    </tr>\n",
       "  </thead>\n",
       "  <tbody>\n",
       "    <tr>\n",
       "      <th>Greenland</th>\n",
       "      <td>02:10 AM</td>\n",
       "      <td>11:32 PM</td>\n",
       "      <td>21:22:00</td>\n",
       "    </tr>\n",
       "    <tr>\n",
       "      <th>Iceland</th>\n",
       "      <td>02:11 AM</td>\n",
       "      <td>11:31 PM</td>\n",
       "      <td>21:20:00</td>\n",
       "    </tr>\n",
       "    <tr>\n",
       "      <th>Faroe Islands</th>\n",
       "      <td>02:22 AM</td>\n",
       "      <td>10:58 PM</td>\n",
       "      <td>20:36:00</td>\n",
       "    </tr>\n",
       "    <tr>\n",
       "      <th>Finland</th>\n",
       "      <td>02:24 AM</td>\n",
       "      <td>10:31 PM</td>\n",
       "      <td>20:07:00</td>\n",
       "    </tr>\n",
       "    <tr>\n",
       "      <th>Norway</th>\n",
       "      <td>02:22 AM</td>\n",
       "      <td>10:23 PM</td>\n",
       "      <td>20:01:00</td>\n",
       "    </tr>\n",
       "    <tr>\n",
       "      <th>Estonia</th>\n",
       "      <td>02:27 AM</td>\n",
       "      <td>10:24 PM</td>\n",
       "      <td>19:57:00</td>\n",
       "    </tr>\n",
       "    <tr>\n",
       "      <th>Sweden</th>\n",
       "      <td>01:55 AM</td>\n",
       "      <td>09:48 PM</td>\n",
       "      <td>19:53:00</td>\n",
       "    </tr>\n",
       "    <tr>\n",
       "      <th>Latvia</th>\n",
       "      <td>02:37 AM</td>\n",
       "      <td>10:06 PM</td>\n",
       "      <td>19:29:00</td>\n",
       "    </tr>\n",
       "    <tr>\n",
       "      <th>Russia</th>\n",
       "      <td>01:47 AM</td>\n",
       "      <td>09:03 PM</td>\n",
       "      <td>19:16:00</td>\n",
       "    </tr>\n",
       "    <tr>\n",
       "      <th>Denmark</th>\n",
       "      <td>02:27 AM</td>\n",
       "      <td>09:41 PM</td>\n",
       "      <td>19:14:00</td>\n",
       "    </tr>\n",
       "  </tbody>\n",
       "</table>\n",
       "</div>"
      ],
      "text/plain": [
       "              fajr_time maghrib_time  fasting_time\n",
       "Greenland      02:10 AM     11:32 PM      21:22:00\n",
       "Iceland        02:11 AM     11:31 PM      21:20:00\n",
       "Faroe Islands  02:22 AM     10:58 PM      20:36:00\n",
       "Finland        02:24 AM     10:31 PM      20:07:00\n",
       "Norway         02:22 AM     10:23 PM      20:01:00\n",
       "Estonia        02:27 AM     10:24 PM      19:57:00\n",
       "Sweden         01:55 AM     09:48 PM      19:53:00\n",
       "Latvia         02:37 AM     10:06 PM      19:29:00\n",
       "Russia         01:47 AM     09:03 PM      19:16:00\n",
       "Denmark        02:27 AM     09:41 PM      19:14:00"
      ]
     },
     "execution_count": 35,
     "metadata": {},
     "output_type": "execute_result"
    }
   ],
   "source": [
    "# Top 10 countries where people fast the longest\n",
    "data.sort_values(by = \"fasting_time\", ascending = False)[:10]"
   ]
  },
  {
   "cell_type": "code",
   "execution_count": 36,
   "metadata": {
    "collapsed": false
   },
   "outputs": [
    {
     "data": {
      "text/html": [
       "<div>\n",
       "<table border=\"1\" class=\"dataframe\">\n",
       "  <thead>\n",
       "    <tr style=\"text-align: right;\">\n",
       "      <th></th>\n",
       "      <th>fajr_time</th>\n",
       "      <th>maghrib_time</th>\n",
       "      <th>fasting_time</th>\n",
       "    </tr>\n",
       "  </thead>\n",
       "  <tbody>\n",
       "    <tr>\n",
       "      <th>South Georgia and the South Sandwich Islands</th>\n",
       "      <td>06:24 AM</td>\n",
       "      <td>04:15 PM</td>\n",
       "      <td>09:51:00</td>\n",
       "    </tr>\n",
       "    <tr>\n",
       "      <th>Falkland Islands</th>\n",
       "      <td>06:45 AM</td>\n",
       "      <td>04:52 PM</td>\n",
       "      <td>10:07:00</td>\n",
       "    </tr>\n",
       "    <tr>\n",
       "      <th>New Zealand</th>\n",
       "      <td>06:00 AM</td>\n",
       "      <td>05:00 PM</td>\n",
       "      <td>11:00:00</td>\n",
       "    </tr>\n",
       "    <tr>\n",
       "      <th>Australia</th>\n",
       "      <td>05:34 AM</td>\n",
       "      <td>05:00 PM</td>\n",
       "      <td>11:26:00</td>\n",
       "    </tr>\n",
       "    <tr>\n",
       "      <th>Uruguay</th>\n",
       "      <td>06:15 AM</td>\n",
       "      <td>05:42 PM</td>\n",
       "      <td>11:27:00</td>\n",
       "    </tr>\n",
       "    <tr>\n",
       "      <th>Argentina</th>\n",
       "      <td>06:23 AM</td>\n",
       "      <td>05:51 PM</td>\n",
       "      <td>11:28:00</td>\n",
       "    </tr>\n",
       "    <tr>\n",
       "      <th>Chile</th>\n",
       "      <td>06:11 AM</td>\n",
       "      <td>05:43 PM</td>\n",
       "      <td>11:32:00</td>\n",
       "    </tr>\n",
       "    <tr>\n",
       "      <th>Lesotho</th>\n",
       "      <td>05:33 AM</td>\n",
       "      <td>05:20 PM</td>\n",
       "      <td>11:47:00</td>\n",
       "    </tr>\n",
       "    <tr>\n",
       "      <th>Norfolk Island</th>\n",
       "      <td>05:10 AM</td>\n",
       "      <td>04:59 PM</td>\n",
       "      <td>11:49:00</td>\n",
       "    </tr>\n",
       "    <tr>\n",
       "      <th>Swaziland</th>\n",
       "      <td>05:14 AM</td>\n",
       "      <td>05:12 PM</td>\n",
       "      <td>11:58:00</td>\n",
       "    </tr>\n",
       "  </tbody>\n",
       "</table>\n",
       "</div>"
      ],
      "text/plain": [
       "                                             fajr_time maghrib_time  \\\n",
       "South Georgia and the South Sandwich Islands  06:24 AM     04:15 PM   \n",
       "Falkland Islands                              06:45 AM     04:52 PM   \n",
       "New Zealand                                   06:00 AM     05:00 PM   \n",
       "Australia                                     05:34 AM     05:00 PM   \n",
       "Uruguay                                       06:15 AM     05:42 PM   \n",
       "Argentina                                     06:23 AM     05:51 PM   \n",
       "Chile                                         06:11 AM     05:43 PM   \n",
       "Lesotho                                       05:33 AM     05:20 PM   \n",
       "Norfolk Island                                05:10 AM     04:59 PM   \n",
       "Swaziland                                     05:14 AM     05:12 PM   \n",
       "\n",
       "                                              fasting_time  \n",
       "South Georgia and the South Sandwich Islands      09:51:00  \n",
       "Falkland Islands                                  10:07:00  \n",
       "New Zealand                                       11:00:00  \n",
       "Australia                                         11:26:00  \n",
       "Uruguay                                           11:27:00  \n",
       "Argentina                                         11:28:00  \n",
       "Chile                                             11:32:00  \n",
       "Lesotho                                           11:47:00  \n",
       "Norfolk Island                                    11:49:00  \n",
       "Swaziland                                         11:58:00  "
      ]
     },
     "execution_count": 36,
     "metadata": {},
     "output_type": "execute_result"
    }
   ],
   "source": [
    "# Top 10 countries where people fast the shortest\n",
    "data.sort_values(by = \"fasting_time\", ascending = True)[:10]"
   ]
  },
  {
   "cell_type": "code",
   "execution_count": 37,
   "metadata": {
    "collapsed": false
   },
   "outputs": [
    {
     "data": {
      "text/html": [
       "<div>\n",
       "<table border=\"1\" class=\"dataframe\">\n",
       "  <thead>\n",
       "    <tr style=\"text-align: right;\">\n",
       "      <th></th>\n",
       "      <th>fajr_time</th>\n",
       "      <th>maghrib_time</th>\n",
       "      <th>fasting_time</th>\n",
       "    </tr>\n",
       "  </thead>\n",
       "  <tbody>\n",
       "    <tr>\n",
       "      <th>Afghanistan</th>\n",
       "      <td>02:59 AM</td>\n",
       "      <td>07:01 PM</td>\n",
       "      <td>16:02:00</td>\n",
       "    </tr>\n",
       "    <tr>\n",
       "      <th>Albania</th>\n",
       "      <td>03:06 AM</td>\n",
       "      <td>08:07 PM</td>\n",
       "      <td>17:01:00</td>\n",
       "    </tr>\n",
       "    <tr>\n",
       "      <th>Algeria</th>\n",
       "      <td>03:42 AM</td>\n",
       "      <td>08:02 PM</td>\n",
       "      <td>16:20:00</td>\n",
       "    </tr>\n",
       "    <tr>\n",
       "      <th>American Samoa</th>\n",
       "      <td>05:26 AM</td>\n",
       "      <td>06:01 PM</td>\n",
       "      <td>12:35:00</td>\n",
       "    </tr>\n",
       "    <tr>\n",
       "      <th>Andorra</th>\n",
       "      <td>04:11 AM</td>\n",
       "      <td>09:25 PM</td>\n",
       "      <td>17:14:00</td>\n",
       "    </tr>\n",
       "  </tbody>\n",
       "</table>\n",
       "</div>"
      ],
      "text/plain": [
       "               fajr_time maghrib_time  fasting_time\n",
       "Afghanistan     02:59 AM     07:01 PM      16:02:00\n",
       "Albania         03:06 AM     08:07 PM      17:01:00\n",
       "Algeria         03:42 AM     08:02 PM      16:20:00\n",
       "American Samoa  05:26 AM     06:01 PM      12:35:00\n",
       "Andorra         04:11 AM     09:25 PM      17:14:00"
      ]
     },
     "execution_count": 37,
     "metadata": {},
     "output_type": "execute_result"
    }
   ],
   "source": [
    "data.head()"
   ]
  },
  {
   "cell_type": "code",
   "execution_count": 38,
   "metadata": {
    "collapsed": false
   },
   "outputs": [],
   "source": [
    "# Fasting time in hours\n",
    "data[\"fasting_time_h\"] = data[\"fasting_time\"].astype(\"timedelta64[s]\") / 3600"
   ]
  },
  {
   "cell_type": "code",
   "execution_count": 39,
   "metadata": {
    "collapsed": false
   },
   "outputs": [
    {
     "data": {
      "text/html": [
       "<div>\n",
       "<table border=\"1\" class=\"dataframe\">\n",
       "  <thead>\n",
       "    <tr style=\"text-align: right;\">\n",
       "      <th></th>\n",
       "      <th>fajr_time</th>\n",
       "      <th>maghrib_time</th>\n",
       "      <th>fasting_time</th>\n",
       "      <th>fasting_time_h</th>\n",
       "    </tr>\n",
       "  </thead>\n",
       "  <tbody>\n",
       "    <tr>\n",
       "      <th>Afghanistan</th>\n",
       "      <td>02:59 AM</td>\n",
       "      <td>07:01 PM</td>\n",
       "      <td>16:02:00</td>\n",
       "      <td>16.033333</td>\n",
       "    </tr>\n",
       "    <tr>\n",
       "      <th>Albania</th>\n",
       "      <td>03:06 AM</td>\n",
       "      <td>08:07 PM</td>\n",
       "      <td>17:01:00</td>\n",
       "      <td>17.016667</td>\n",
       "    </tr>\n",
       "    <tr>\n",
       "      <th>Algeria</th>\n",
       "      <td>03:42 AM</td>\n",
       "      <td>08:02 PM</td>\n",
       "      <td>16:20:00</td>\n",
       "      <td>16.333333</td>\n",
       "    </tr>\n",
       "    <tr>\n",
       "      <th>American Samoa</th>\n",
       "      <td>05:26 AM</td>\n",
       "      <td>06:01 PM</td>\n",
       "      <td>12:35:00</td>\n",
       "      <td>12.583333</td>\n",
       "    </tr>\n",
       "    <tr>\n",
       "      <th>Andorra</th>\n",
       "      <td>04:11 AM</td>\n",
       "      <td>09:25 PM</td>\n",
       "      <td>17:14:00</td>\n",
       "      <td>17.233333</td>\n",
       "    </tr>\n",
       "  </tbody>\n",
       "</table>\n",
       "</div>"
      ],
      "text/plain": [
       "               fajr_time maghrib_time  fasting_time  fasting_time_h\n",
       "Afghanistan     02:59 AM     07:01 PM      16:02:00       16.033333\n",
       "Albania         03:06 AM     08:07 PM      17:01:00       17.016667\n",
       "Algeria         03:42 AM     08:02 PM      16:20:00       16.333333\n",
       "American Samoa  05:26 AM     06:01 PM      12:35:00       12.583333\n",
       "Andorra         04:11 AM     09:25 PM      17:14:00       17.233333"
      ]
     },
     "execution_count": 39,
     "metadata": {},
     "output_type": "execute_result"
    }
   ],
   "source": [
    "data.head()"
   ]
  },
  {
   "cell_type": "code",
   "execution_count": 40,
   "metadata": {
    "collapsed": false
   },
   "outputs": [],
   "source": [
    "# Save the data\n",
    "data.to_excel(os.path.join(path_data, \"fasting.xlsx\"))"
   ]
  },
  {
   "cell_type": "markdown",
   "metadata": {
    "collapsed": true
   },
   "source": [
    "> And finally, [here](https://public.tableau.com/profile/nasser.benab#!/vizhome/Wheredopeoplefastthelongestin2017/FastingMap) is a **map** created with **Tableau** showing the fasting times for this data scrapped around the 5th day of Ramadan !"
   ]
  }
 ],
 "metadata": {
  "kernelspec": {
   "display_name": "Python 3",
   "language": "python",
   "name": "python3"
  },
  "language_info": {
   "codemirror_mode": {
    "name": "ipython",
    "version": 3
   },
   "file_extension": ".py",
   "mimetype": "text/x-python",
   "name": "python",
   "nbconvert_exporter": "python",
   "pygments_lexer": "ipython3",
   "version": "3.5.2"
  }
 },
 "nbformat": 4,
 "nbformat_minor": 0
}
